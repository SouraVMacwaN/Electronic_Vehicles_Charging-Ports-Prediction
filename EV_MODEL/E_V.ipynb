{
 "cells": [
  {
   "cell_type": "code",
   "execution_count": 1,
   "id": "81bd53f8",
   "metadata": {},
   "outputs": [],
   "source": [
    "import pandas as pd"
   ]
  },
  {
   "cell_type": "code",
   "execution_count": 2,
   "id": "3ec35843",
   "metadata": {},
   "outputs": [],
   "source": [
    "df = pd.read_csv('alt_fuel_stations.csv')"
   ]
  },
  {
   "cell_type": "code",
   "execution_count": 3,
   "id": "279284a2",
   "metadata": {},
   "outputs": [
    {
     "data": {
      "text/plain": [
       "(2759, 65)"
      ]
     },
     "execution_count": 3,
     "metadata": {},
     "output_type": "execute_result"
    }
   ],
   "source": [
    "df.shape"
   ]
  },
  {
   "cell_type": "code",
   "execution_count": 4,
   "id": "ad9528b4",
   "metadata": {},
   "outputs": [],
   "source": [
    "new_charging_locs = df[df['City'] == 'Albany']"
   ]
  },
  {
   "cell_type": "code",
   "execution_count": 5,
   "id": "60bc6b14",
   "metadata": {},
   "outputs": [
    {
     "data": {
      "text/html": [
       "<div>\n",
       "<style scoped>\n",
       "    .dataframe tbody tr th:only-of-type {\n",
       "        vertical-align: middle;\n",
       "    }\n",
       "\n",
       "    .dataframe tbody tr th {\n",
       "        vertical-align: top;\n",
       "    }\n",
       "\n",
       "    .dataframe thead th {\n",
       "        text-align: right;\n",
       "    }\n",
       "</style>\n",
       "<table border=\"1\" class=\"dataframe\">\n",
       "  <thead>\n",
       "    <tr style=\"text-align: right;\">\n",
       "      <th></th>\n",
       "      <th>Fuel Type Code</th>\n",
       "      <th>Station Name</th>\n",
       "      <th>Street Address</th>\n",
       "      <th>Intersection Directions</th>\n",
       "      <th>City</th>\n",
       "      <th>State</th>\n",
       "      <th>ZIP</th>\n",
       "      <th>Plus4</th>\n",
       "      <th>Station Phone</th>\n",
       "      <th>Status Code</th>\n",
       "      <th>...</th>\n",
       "      <th>EV Pricing (French)</th>\n",
       "      <th>LPG Nozzle Types</th>\n",
       "      <th>Hydrogen Pressures</th>\n",
       "      <th>Hydrogen Standards</th>\n",
       "      <th>CNG Fill Type Code</th>\n",
       "      <th>CNG PSI</th>\n",
       "      <th>CNG Vehicle Class</th>\n",
       "      <th>LNG Vehicle Class</th>\n",
       "      <th>EV On-Site Renewable Source</th>\n",
       "      <th>Restricted Access</th>\n",
       "    </tr>\n",
       "  </thead>\n",
       "  <tbody>\n",
       "    <tr>\n",
       "      <th>21</th>\n",
       "      <td>ELEC</td>\n",
       "      <td>Destination Nissan</td>\n",
       "      <td>770 Central Ave</td>\n",
       "      <td>NaN</td>\n",
       "      <td>Albany</td>\n",
       "      <td>NY</td>\n",
       "      <td>12206</td>\n",
       "      <td>NaN</td>\n",
       "      <td>518-438-8461</td>\n",
       "      <td>E</td>\n",
       "      <td>...</td>\n",
       "      <td>NaN</td>\n",
       "      <td>NaN</td>\n",
       "      <td>NaN</td>\n",
       "      <td>NaN</td>\n",
       "      <td>NaN</td>\n",
       "      <td>NaN</td>\n",
       "      <td>NaN</td>\n",
       "      <td>NaN</td>\n",
       "      <td>NaN</td>\n",
       "      <td>NaN</td>\n",
       "    </tr>\n",
       "    <tr>\n",
       "      <th>48</th>\n",
       "      <td>ELEC</td>\n",
       "      <td>TRICITYRENTALS WOODLAKE 2</td>\n",
       "      <td>61 Woodlake Rd N</td>\n",
       "      <td>NaN</td>\n",
       "      <td>Albany</td>\n",
       "      <td>NY</td>\n",
       "      <td>12203</td>\n",
       "      <td>NaN</td>\n",
       "      <td>888-758-4389</td>\n",
       "      <td>E</td>\n",
       "      <td>...</td>\n",
       "      <td>NaN</td>\n",
       "      <td>NaN</td>\n",
       "      <td>NaN</td>\n",
       "      <td>NaN</td>\n",
       "      <td>NaN</td>\n",
       "      <td>NaN</td>\n",
       "      <td>NaN</td>\n",
       "      <td>NaN</td>\n",
       "      <td>NaN</td>\n",
       "      <td>NaN</td>\n",
       "    </tr>\n",
       "    <tr>\n",
       "      <th>66</th>\n",
       "      <td>ELEC</td>\n",
       "      <td>Albany International Airport</td>\n",
       "      <td>737 Albany Shaker Rd</td>\n",
       "      <td>Located in the long-term parking lot and the g...</td>\n",
       "      <td>Albany</td>\n",
       "      <td>NY</td>\n",
       "      <td>12205</td>\n",
       "      <td>NaN</td>\n",
       "      <td>518-242-2299  866-816-7584</td>\n",
       "      <td>E</td>\n",
       "      <td>...</td>\n",
       "      <td>NaN</td>\n",
       "      <td>NaN</td>\n",
       "      <td>NaN</td>\n",
       "      <td>NaN</td>\n",
       "      <td>NaN</td>\n",
       "      <td>NaN</td>\n",
       "      <td>NaN</td>\n",
       "      <td>NaN</td>\n",
       "      <td>SOLAR</td>\n",
       "      <td>NaN</td>\n",
       "    </tr>\n",
       "    <tr>\n",
       "      <th>91</th>\n",
       "      <td>ELEC</td>\n",
       "      <td>Price Chopper</td>\n",
       "      <td>1060 Madison Ave</td>\n",
       "      <td>NaN</td>\n",
       "      <td>Albany</td>\n",
       "      <td>NY</td>\n",
       "      <td>12208</td>\n",
       "      <td>NaN</td>\n",
       "      <td>518-438-6241</td>\n",
       "      <td>E</td>\n",
       "      <td>...</td>\n",
       "      <td>NaN</td>\n",
       "      <td>NaN</td>\n",
       "      <td>NaN</td>\n",
       "      <td>NaN</td>\n",
       "      <td>NaN</td>\n",
       "      <td>NaN</td>\n",
       "      <td>NaN</td>\n",
       "      <td>NaN</td>\n",
       "      <td>NaN</td>\n",
       "      <td>NaN</td>\n",
       "    </tr>\n",
       "    <tr>\n",
       "      <th>97</th>\n",
       "      <td>ELEC</td>\n",
       "      <td>Hampton Inn - Albany</td>\n",
       "      <td>10 Ulenski Dr</td>\n",
       "      <td>NaN</td>\n",
       "      <td>Albany</td>\n",
       "      <td>NY</td>\n",
       "      <td>12205</td>\n",
       "      <td>NaN</td>\n",
       "      <td>518-438-2822</td>\n",
       "      <td>E</td>\n",
       "      <td>...</td>\n",
       "      <td>NaN</td>\n",
       "      <td>NaN</td>\n",
       "      <td>NaN</td>\n",
       "      <td>NaN</td>\n",
       "      <td>NaN</td>\n",
       "      <td>NaN</td>\n",
       "      <td>NaN</td>\n",
       "      <td>NaN</td>\n",
       "      <td>NaN</td>\n",
       "      <td>NaN</td>\n",
       "    </tr>\n",
       "  </tbody>\n",
       "</table>\n",
       "<p>5 rows × 65 columns</p>\n",
       "</div>"
      ],
      "text/plain": [
       "   Fuel Type Code                  Station Name        Street Address  \\\n",
       "21           ELEC            Destination Nissan       770 Central Ave   \n",
       "48           ELEC     TRICITYRENTALS WOODLAKE 2      61 Woodlake Rd N   \n",
       "66           ELEC  Albany International Airport  737 Albany Shaker Rd   \n",
       "91           ELEC                 Price Chopper      1060 Madison Ave   \n",
       "97           ELEC          Hampton Inn - Albany         10 Ulenski Dr   \n",
       "\n",
       "                              Intersection Directions    City State    ZIP  \\\n",
       "21                                                NaN  Albany    NY  12206   \n",
       "48                                                NaN  Albany    NY  12203   \n",
       "66  Located in the long-term parking lot and the g...  Albany    NY  12205   \n",
       "91                                                NaN  Albany    NY  12208   \n",
       "97                                                NaN  Albany    NY  12205   \n",
       "\n",
       "    Plus4               Station Phone Status Code  ...  EV Pricing (French)  \\\n",
       "21    NaN                518-438-8461           E  ...                  NaN   \n",
       "48    NaN                888-758-4389           E  ...                  NaN   \n",
       "66    NaN  518-242-2299  866-816-7584           E  ...                  NaN   \n",
       "91    NaN                518-438-6241           E  ...                  NaN   \n",
       "97    NaN                518-438-2822           E  ...                  NaN   \n",
       "\n",
       "   LPG Nozzle Types Hydrogen Pressures Hydrogen Standards  CNG Fill Type Code  \\\n",
       "21              NaN                NaN                NaN                 NaN   \n",
       "48              NaN                NaN                NaN                 NaN   \n",
       "66              NaN                NaN                NaN                 NaN   \n",
       "91              NaN                NaN                NaN                 NaN   \n",
       "97              NaN                NaN                NaN                 NaN   \n",
       "\n",
       "    CNG PSI  CNG Vehicle Class  LNG Vehicle Class  \\\n",
       "21      NaN                NaN                NaN   \n",
       "48      NaN                NaN                NaN   \n",
       "66      NaN                NaN                NaN   \n",
       "91      NaN                NaN                NaN   \n",
       "97      NaN                NaN                NaN   \n",
       "\n",
       "    EV On-Site Renewable Source  Restricted Access  \n",
       "21                          NaN                NaN  \n",
       "48                          NaN                NaN  \n",
       "66                        SOLAR                NaN  \n",
       "91                          NaN                NaN  \n",
       "97                          NaN                NaN  \n",
       "\n",
       "[5 rows x 65 columns]"
      ]
     },
     "execution_count": 5,
     "metadata": {},
     "output_type": "execute_result"
    }
   ],
   "source": [
    "new_charging_locs.head()"
   ]
  },
  {
   "cell_type": "code",
   "execution_count": null,
   "id": "9af2d406",
   "metadata": {},
   "outputs": [],
   "source": [
    "df.isnull().sum()"
   ]
  },
  {
   "cell_type": "code",
   "execution_count": null,
   "id": "83c050ca",
   "metadata": {},
   "outputs": [],
   "source": [
    "df1 = pd.read_csv('Charging Stations by Network .csv')"
   ]
  },
  {
   "cell_type": "code",
   "execution_count": null,
   "id": "433c2d54",
   "metadata": {},
   "outputs": [],
   "source": [
    "df1.head()"
   ]
  },
  {
   "cell_type": "code",
   "execution_count": null,
   "id": "c4a381d1",
   "metadata": {},
   "outputs": [],
   "source": [
    "final_dataset = pd.merge(df,df1)"
   ]
  },
  {
   "cell_type": "code",
   "execution_count": null,
   "id": "062ad9db",
   "metadata": {},
   "outputs": [],
   "source": [
    "final_dataset.head()"
   ]
  },
  {
   "cell_type": "code",
   "execution_count": null,
   "id": "66b7095e",
   "metadata": {},
   "outputs": [],
   "source": [
    "print(final_dataset.columns)"
   ]
  },
  {
   "cell_type": "code",
   "execution_count": null,
   "id": "0ab7c339",
   "metadata": {},
   "outputs": [],
   "source": [
    "final_dataset = final_dataset[final_dataset['City'] == 'Albany']"
   ]
  },
  {
   "cell_type": "code",
   "execution_count": null,
   "id": "8b006857",
   "metadata": {},
   "outputs": [],
   "source": [
    "final_dataset.head()"
   ]
  },
  {
   "cell_type": "code",
   "execution_count": null,
   "id": "5cad62eb",
   "metadata": {},
   "outputs": [],
   "source": [
    "final_dataset.shape"
   ]
  },
  {
   "cell_type": "code",
   "execution_count": null,
   "id": "993c6540",
   "metadata": {},
   "outputs": [],
   "source": [
    "final_dataset.isnull().sum()"
   ]
  },
  {
   "cell_type": "code",
   "execution_count": null,
   "id": "a5b0d39f",
   "metadata": {},
   "outputs": [],
   "source": [
    "final_dataset = final_dataset.loc[:, final_dataset.isnull().mean() < .9]"
   ]
  },
  {
   "cell_type": "code",
   "execution_count": null,
   "id": "72dd11fd",
   "metadata": {},
   "outputs": [],
   "source": [
    "final_dataset.shape"
   ]
  },
  {
   "cell_type": "code",
   "execution_count": null,
   "id": "b3cf18bf",
   "metadata": {},
   "outputs": [],
   "source": [
    "print(final_dataset.columns)"
   ]
  },
  {
   "cell_type": "code",
   "execution_count": null,
   "id": "10c6c9a6",
   "metadata": {},
   "outputs": [],
   "source": [
    "X=final_dataset.iloc[:,1:]\n",
    "y=final_dataset.iloc[:,0]"
   ]
  },
  {
   "cell_type": "code",
   "execution_count": null,
   "id": "28ef5222",
   "metadata": {},
   "outputs": [],
   "source": [
    "X.head()"
   ]
  },
  {
   "cell_type": "code",
   "execution_count": null,
   "id": "588dcca3",
   "metadata": {},
   "outputs": [],
   "source": [
    "y.head()"
   ]
  },
  {
   "cell_type": "code",
   "execution_count": null,
   "id": "6222cb06",
   "metadata": {},
   "outputs": [],
   "source": []
  },
  {
   "cell_type": "code",
   "execution_count": null,
   "id": "56c88fe8",
   "metadata": {},
   "outputs": [],
   "source": []
  },
  {
   "cell_type": "code",
   "execution_count": null,
   "id": "b7a198a7",
   "metadata": {},
   "outputs": [],
   "source": []
  },
  {
   "cell_type": "code",
   "execution_count": null,
   "id": "82520369",
   "metadata": {},
   "outputs": [],
   "source": []
  },
  {
   "cell_type": "code",
   "execution_count": null,
   "id": "d4f8c189",
   "metadata": {},
   "outputs": [],
   "source": []
  }
 ],
 "metadata": {
  "kernelspec": {
   "display_name": "Python 3 (ipykernel)",
   "language": "python",
   "name": "python3"
  },
  "language_info": {
   "codemirror_mode": {
    "name": "ipython",
    "version": 3
   },
   "file_extension": ".py",
   "mimetype": "text/x-python",
   "name": "python",
   "nbconvert_exporter": "python",
   "pygments_lexer": "ipython3",
   "version": "3.9.7"
  }
 },
 "nbformat": 4,
 "nbformat_minor": 5
}
